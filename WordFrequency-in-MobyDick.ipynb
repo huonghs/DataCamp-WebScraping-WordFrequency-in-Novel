{
 "cells": [
  {
   "cell_type": "code",
   "execution_count": 2,
   "id": "cd3b8399",
   "metadata": {},
   "outputs": [],
   "source": [
    "import requests\n",
    "from bs4 import BeautifulSoup \n",
    "import nltk\n",
    "from collections import Counter"
   ]
  },
  {
   "cell_type": "code",
   "execution_count": 13,
   "id": "6c0d7af8",
   "metadata": {},
   "outputs": [
    {
     "name": "stdout",
     "output_type": "stream",
     "text": [
      "<!DOCTYPE html PUBLIC \"-//W3C//DTD XHTML 1.0 Strict//EN\"\r\n",
      "\"http://www.w3.org/TR/xhtml1/DTD/xhtml1-strict.dtd\">\r\n",
      "<html xmlns=\"http://www.w3.org/1999/xhtml\" xml:lang=\"en\" lang=\"en\">\r\n",
      "<head>\r\n",
      "<meta http-equiv=\"Content-Type\" content=\"text/html;charset=utf-8\" />\r\n",
      "<meta http-equiv=\"Content-Style-Type\" content=\"text/css\" />\r\n",
      "<title>The Project Gutenberg eBook of Moby Dick; Or the Whale, by Herman Melville</title>\r\n",
      "\r\n",
      "<style type=\"text/css\" xml:space=\"preserve\">\r\n",
      "\r\n",
      "    body {margin-left:15%; margin-right:15%; text-align:justify }\r\n",
      "    p { text-indent: 1em; margin-top: .25em; margin-bottom: .25em; }\r\n",
      "    H1,H2,H3,H4,H5,H6 { text-align: center; margin-left: 15%; margin-right: 15%; }\r\n",
      "    hr  { width: 50%; text-align: center;}\r\n",
      "    blockquote {font-size: 100%; margin-left: 0%; margin-right: 0%;}\r\n",
      "    .mynote    {background-color: #DDE; color: #000; padding: .5em; margin-left: 10%; margin-right: 10%; font-family: sans-serif; font-size: 95%;}\r\n",
      "    .toc       { margin-left: 10%; margin-bottom: .75em;}\r\n",
      "    pre        { font-family: times new roman; font-size: 100%; margin-left: 10%;}\r\n",
      "\r\n",
      "    table      {margin-left: 10%;}\r\n",
      "\r\n",
      "a:link {color:blue;\r\n",
      "\t\ttext-decoration:none}\r\n",
      "link {color:blue;\r\n",
      "\t\ttext-decoration:none}\r\n",
      "a:visited {color:blue;\r\n",
      "\t\ttext-decoration:none}\r\n",
      "a:hover {color:red}\r\n",
      "\r\n",
      "</style>\r\n",
      "  </head>\r\n",
      "  <body>\r\n",
      "\r\n",
      "<div style='text-align:center; font-size:1.2em; font-weight:bold;'>The Project Gutenberg eBook of Moby-Dick; or The Whale, by Herman Melville</div>\r\n",
      "<div style='display:block; margin:1em 0'>\r\n",
      "This eBook is for the use of anyone anywhere in the United States and\r\n",
      "most other parts of the world at no cost and with almost no restrictions\r\n",
      "whatsoever. You may copy it, give it away or re-use it under the terms\r\n",
      "of the Project Gutenberg License included with this eBook or online\r\n",
      "at <a href=\"https://www.gutenberg.org\">www.gutenberg.org</a>. If you\r\n",
      "are not located in the United States, you will have to check the laws of the\r\n",
      "country where you are located before using this eBook.\r\n",
      "</div>\r\n",
      "<div style='display:block; margin-top:1em; margin-bottom:1em; margin-left:2em; text-indent:-2em'>Title: Moby-Dick; or The Whale</div>\r\n",
      "<div style='display:block; margin-top:1em; margin-bottom:1em; margin-left:2em; text-indent:-2em'>Author: Herman Melville</div>\r\n",
      "<div style='display:block;margin:1em 0'>Release Date: June, 2001 [eBook #2701]<br />\r\n",
      "[Most recently updated: August 18, 2021]</div>\r\n",
      "<div style='display:block;margin:1em 0'>Language: English</div>\r\n",
      "<div style='display:block;margin:1em 0'>Character set encoding: UTF-8</div>\r\n",
      "<div style='display:block; margin-left:2em; text-indent:-2em'>Produced by: Daniel Lazarus, Jonesey, and David Widger</div>\r\n",
      "<div style='margin-top:2em;margin-bottom:4em'>*** START OF THE PROJECT GUTENBERG EBOOK MOBY-DICK; OR THE WHALE ***</div>\r\n",
      "\r\n",
      "    <h1>\r\n",
      "      MOBY-DICK;<br /><br />or, THE WHALE.\r\n",
      "    </h1>\r\n",
      "    <p>\r\n",
      "      <br />\r\n",
      "    </p>\r\n",
      "    <h2>\r\n",
      "      By Herman Melville\r\n",
      "    </h2>\r\n",
      "    <p>\r\n",
      "      <br /> <br />\r\n",
      "    </p>\r\n",
      "    <hr />\r\n",
      "    \n"
     ]
    }
   ],
   "source": [
    "r = requests.get('https://www.gutenberg.org/files/2701/2701-h/2701-h.htm')\n",
    "r.encoding = 'utf-8'\n",
    "html = r.text\n",
    "print(html[0:3000])"
   ]
  },
  {
   "cell_type": "code",
   "execution_count": 15,
   "id": "3ff048e8",
   "metadata": {
    "scrolled": true
   },
   "outputs": [
    {
     "name": "stdout",
     "output_type": "stream",
     "text": [
      "\n",
      "\n",
      "\n",
      "\n",
      "\n",
      "The Project Gutenberg eBook of Moby Dick; Or the Whale, by Herman Melville\n",
      "\n",
      "\n",
      "\n",
      "The Project Gutenberg eBook of Moby-Dick; or The Whale, by Herman Melville\n",
      "\r\n",
      "This eBook is for the use of anyone anywhere in the United States and\r\n",
      "most other parts of the world at no cost and with almost no restrictions\r\n",
      "whatsoever. You may copy it, give it away or re-use it under the terms\r\n",
      "of the Project Gutenberg License included with this eBook or online\r\n",
      "at www.gutenberg.org. If you\r\n",
      "are not located in the United States, you will have to check the laws of the\r\n",
      "country where you are located before using this eBook.\r\n",
      "\n",
      "Title: Moby-Dick; or The Whale\n",
      "Author: Herman Melville\n",
      "Release Date: June, 2001 [eBook #2701]\r\n",
      "[Most recently updated: August 18, 2021]\n",
      "Language: English\n",
      "Character set encoding: UTF-8\n",
      "Produced by: Daniel Lazarus, Jonesey, and David Widger\n",
      "*** START OF THE PROJECT GUTENBERG EBOOK MOBY-DICK; OR THE WHALE ***\n",
      "\r\n",
      "      MOBY-DICK;or, THE WHALE.\r\n",
      "    \n",
      "\n",
      "\n",
      "\n",
      "\r\n",
      "      By Herman Melville\r\n",
      "    \n",
      "\n",
      " \n",
      "\n",
      "\n",
      "\n",
      " \n",
      "\n",
      "\n",
      "\n",
      "CONTENTS\n",
      "\n",
      "\n",
      "\n",
      "\n",
      "\n",
      " ETYMOLOGY. \n",
      "\n",
      "\n",
      " EXTRACTS (Supplied by a Sub-Sub-Librarian).\r\n",
      "        \n",
      "\n",
      "\n",
      "\n",
      "\n",
      "\n",
      " CHAPTER 1. Loomings. \n",
      "\n",
      "\n",
      " CHAPTER 2. The Carpet-Bag. \n",
      "\n",
      "\n",
      " CHAPTER 3. The Spouter-Inn. \n",
      "\n",
      "\n",
      " CHAPTER 4. The Counterpane. \n",
      "\n",
      "\n",
      " CHAPTER 5. Breakfast. \n",
      "\n",
      "\n",
      " CHAPTER 6. The Street. \n",
      "\n",
      "\n",
      " CHAPTER 7. The Chapel. \n",
      "\n",
      "\n",
      " CHAPTER 8. The Pulpit. \n",
      "\n",
      "\n",
      " CHAPTER 9. The Sermon. \n",
      "\n",
      "\n",
      " CHAPTER 10. A Bosom Friend. \n",
      "\n",
      "\n",
      " CHAPTER 11. Nightgown. \n",
      "\n",
      "\n",
      " CHAPTER 12. Biographical. \n",
      "\n",
      "\n",
      " CHAPTER 13. Wheelbarrow. \n",
      "\n",
      "\n",
      " CHAPTER 14. Nantucket. \n",
      "\n",
      "\n",
      " CHAPTER 15. Chowder. \n",
      "\n",
      "\n",
      " CHAPTER 16. The Ship. \n",
      "\n",
      "\n",
      " CHAPTER 17. The Ramadan. \n",
      "\n",
      "\n",
      " CHAPTER 18. His Mark. \n",
      "\n",
      "\n",
      " CHAPTER 19. The Prophet. \n",
      "\n",
      "\n",
      " CHAPTER 20. All Astir. \n",
      "\n",
      "\n",
      " CHAPTER 21. Going Aboard. \n",
      "\n",
      "\n",
      " CHAPTER 22. Merry Christmas. \n",
      "\n",
      "\n",
      " CHAPTER 23. The Lee Shore. \n",
      "\n",
      "\n",
      " CHAPTER 24. The Advocate. \n",
      "\n",
      "\n",
      " CHAPTER 25. Postscript. \n",
      "\n",
      "\n",
      " CHAPTER 26. Knights and Squires. \n",
      "\n",
      "\n",
      " CHAPTER 27. Knights and Squires. \n",
      "\n",
      "\n",
      " CHAPTER 28. Ahab. \n",
      "\n",
      "\n",
      " CHAPTER 29. Enter Ahab; to Him, Stubb. \n",
      "\n",
      "\n",
      " CHAPTER 30. The Pipe. \n",
      "\n",
      "\n",
      " CHAPTER 31. Queen Mab. \n",
      "\n",
      "\n",
      " \n"
     ]
    }
   ],
   "source": [
    "soup = BeautifulSoup(html, \"html.parser\")\n",
    "text = soup.get_text()\n",
    "print(text[0:2000])\n"
   ]
  },
  {
   "cell_type": "code",
   "execution_count": 7,
   "id": "e1640086",
   "metadata": {},
   "outputs": [
    {
     "data": {
      "text/plain": [
       "str"
      ]
     },
     "execution_count": 7,
     "metadata": {},
     "output_type": "execute_result"
    }
   ],
   "source": [
    "type(text)"
   ]
  },
  {
   "cell_type": "code",
   "execution_count": 18,
   "id": "277165ec",
   "metadata": {
    "scrolled": true
   },
   "outputs": [
    {
     "data": {
      "text/plain": [
       "['The',\n",
       " 'Project',\n",
       " 'Gutenberg',\n",
       " 'eBook',\n",
       " 'of',\n",
       " 'Moby',\n",
       " 'Dick',\n",
       " 'Or',\n",
       " 'the',\n",
       " 'Whale']"
      ]
     },
     "execution_count": 18,
     "metadata": {},
     "output_type": "execute_result"
    }
   ],
   "source": [
    "tokenizer = nltk.tokenize.RegexpTokenizer('\\w+')\n",
    "tokens = tokenizer.tokenize(text)\n",
    "tokens[:10]"
   ]
  },
  {
   "cell_type": "code",
   "execution_count": 20,
   "id": "f408c1cf",
   "metadata": {
    "scrolled": true
   },
   "outputs": [
    {
     "name": "stdout",
     "output_type": "stream",
     "text": [
      "['the', 'project', 'gutenberg', 'ebook', 'of', 'moby', 'dick', 'or']\n"
     ]
    },
    {
     "data": {
      "text/plain": [
       "['the', 'project', 'gutenberg', 'ebook', 'of', 'moby', 'dick', 'or']"
      ]
     },
     "execution_count": 20,
     "metadata": {},
     "output_type": "execute_result"
    }
   ],
   "source": [
    "words = [word.lower() for word in tokens]\n",
    "print(words[:8])"
   ]
  },
  {
   "cell_type": "code",
   "execution_count": 22,
   "id": "e17ff28a",
   "metadata": {},
   "outputs": [
    {
     "name": "stderr",
     "output_type": "stream",
     "text": [
      "[nltk_data] Downloading package stopwords to\n",
      "[nltk_data]     /Users/huonghs/nltk_data...\n",
      "[nltk_data]   Unzipping corpora/stopwords.zip.\n"
     ]
    },
    {
     "data": {
      "text/plain": [
       "['i', 'me', 'my', 'myself', 'we', 'our', 'ours', 'ourselves']"
      ]
     },
     "execution_count": 22,
     "metadata": {},
     "output_type": "execute_result"
    }
   ],
   "source": [
    "nltk.download('stopwords')\n",
    "sw = nltk.corpus.stopwords.words('english')\n",
    "sw[:8]"
   ]
  },
  {
   "cell_type": "code",
   "execution_count": 23,
   "id": "7c8a6418",
   "metadata": {},
   "outputs": [
    {
     "data": {
      "text/plain": [
       "['project',\n",
       " 'gutenberg',\n",
       " 'ebook',\n",
       " 'moby',\n",
       " 'dick',\n",
       " 'whale',\n",
       " 'herman',\n",
       " 'melville',\n",
       " 'project',\n",
       " 'gutenberg']"
      ]
     },
     "execution_count": 23,
     "metadata": {},
     "output_type": "execute_result"
    }
   ],
   "source": [
    "words_not_sw = [word for word in words if word not in sw]\n",
    "words_not_sw[:10]"
   ]
  },
  {
   "cell_type": "code",
   "execution_count": 28,
   "id": "97536f46",
   "metadata": {},
   "outputs": [
    {
     "name": "stdout",
     "output_type": "stream",
     "text": [
      "[('whale', 1244), ('one', 925), ('like', 647), ('upon', 568), ('man', 527), ('ship', 519), ('ahab', 517), ('ye', 473), ('sea', 455), ('old', 452)]\n"
     ]
    }
   ],
   "source": [
    "count = Counter(words_not_sw)\n",
    "top_ten = count.most_common(10)\n",
    "print(top_ten)"
   ]
  },
  {
   "cell_type": "code",
   "execution_count": null,
   "id": "c6c81739",
   "metadata": {},
   "outputs": [],
   "source": []
  }
 ],
 "metadata": {
  "kernelspec": {
   "display_name": "Python 3",
   "language": "python",
   "name": "python3"
  },
  "language_info": {
   "codemirror_mode": {
    "name": "ipython",
    "version": 3
   },
   "file_extension": ".py",
   "mimetype": "text/x-python",
   "name": "python",
   "nbconvert_exporter": "python",
   "pygments_lexer": "ipython3",
   "version": "3.8.8"
  }
 },
 "nbformat": 4,
 "nbformat_minor": 5
}
